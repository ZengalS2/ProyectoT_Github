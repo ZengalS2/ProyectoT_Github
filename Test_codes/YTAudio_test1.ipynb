{
 "cells": [
  {
   "cell_type": "code",
   "execution_count": 1,
   "metadata": {},
   "outputs": [],
   "source": [
    "from __future__ import unicode_literals\n",
    "import yt_dlp as youtube_dl\n",
    "import os\n",
    "\n",
    "destination = \"K:\\Proyecto T\\Audioset\\Balanced Training\\Crying audios\"\n",
    "\n",
    "video_link = \"https://www.youtube.com/watch?v=6fVpEKC5JkY\"\n"
   ]
  },
  {
   "cell_type": "code",
   "execution_count": 2,
   "metadata": {},
   "outputs": [
    {
     "name": "stdout",
     "output_type": "stream",
     "text": [
      "[youtube] Extracting URL: https://www.youtube.com/watch?v=6fVpEKC5JkY\n",
      "[youtube] 6fVpEKC5JkY: Downloading webpage\n",
      "[youtube] 6fVpEKC5JkY: Downloading ios player API JSON\n",
      "[youtube] 6fVpEKC5JkY: Downloading android player API JSON\n",
      "[youtube] 6fVpEKC5JkY: Downloading m3u8 information\n",
      "[youtube] Extracting URL: https://www.youtube.com/watch?v=6fVpEKC5JkY\n",
      "[youtube] 6fVpEKC5JkY: Downloading webpage\n",
      "[youtube] 6fVpEKC5JkY: Downloading ios player API JSON\n",
      "[youtube] 6fVpEKC5JkY: Downloading android player API JSON\n",
      "[youtube] 6fVpEKC5JkY: Downloading m3u8 information\n",
      "[info] 6fVpEKC5JkY: Downloading 1 format(s): 251\n",
      "[download] Destination: K:\\Proyecto T\\Audioset\\Balanced Training\\Crying audios\\(2M)Tiwi聽到馬上哭的寶寶睡!!!!.webm\n",
      "[download] 100% of    1.08MiB in 00:00:00 at 6.91MiB/s   \n",
      "El nombre del video es:  (2M)Tiwi聽到馬上哭的寶寶睡!!!!\n"
     ]
    }
   ],
   "source": [
    "ydl_opts = {\n",
    "    'format': 'bestaudio/best',\n",
    "    'outtmpl': 'K:\\Proyecto T\\Audioset\\Balanced Training\\Crying audios\\%(title)s.%(ext)s',\n",
    "}\n",
    "with youtube_dl.YoutubeDL(ydl_opts) as ydl:\n",
    "    info_dict = ydl.extract_info(video_link, download=False)\n",
    "    video_title = info_dict.get('title', None)\n",
    "    ydl.download([video_link])\n",
    "\n",
    "print(\"El nombre del video es: \", video_title)"
   ]
  },
  {
   "cell_type": "code",
   "execution_count": 3,
   "metadata": {},
   "outputs": [
    {
     "name": "stdout",
     "output_type": "stream",
     "text": [
      "MoviePy - Writing audio in K:\\Proyecto T\\Audioset\\Balanced Training\\Crying audios\\(2M)Tiwi聽到馬上哭的寶寶睡!!!!.wav\n"
     ]
    },
    {
     "name": "stderr",
     "output_type": "stream",
     "text": [
      "                                                                      "
     ]
    },
    {
     "name": "stdout",
     "output_type": "stream",
     "text": [
      "MoviePy - Done.\n"
     ]
    },
    {
     "name": "stderr",
     "output_type": "stream",
     "text": [
      "\r"
     ]
    },
    {
     "data": {
      "text/plain": [
       "'K:\\\\Proyecto T\\\\Audioset\\\\Balanced Training\\\\Crying audios\\\\'"
      ]
     },
     "execution_count": 3,
     "metadata": {},
     "output_type": "execute_result"
    }
   ],
   "source": [
    "import moviepy.editor as mp\n",
    "ruta_acceso = 'K:\\\\Proyecto T\\\\Audioset\\\\Balanced Training\\\\Crying audios\\\\'\n",
    "clip = mp.AudioFileClip(ruta_acceso+video_title+\".webm\")\n",
    "clip.write_audiofile(ruta_acceso+video_title+\".wav\")\n",
    "\n",
    "os.remove(ruta_acceso+video_title+\".webm\")\n",
    "\n",
    "ruta_acceso"
   ]
  },
  {
   "cell_type": "code",
   "execution_count": 5,
   "metadata": {},
   "outputs": [],
   "source": [
    "from pydub import AudioSegment\n",
    "\n",
    "def cut_audio(input_file, output_file, start_time, end_time):\n",
    "    \"\"\"\n",
    "    Cut parts of an audio file and save it to a new file.\n",
    "\n",
    "    Args:\n",
    "        input_file (str): Path to the input audio file.\n",
    "        output_file (str): Path to save the output audio file.\n",
    "        start_time (int): Start time in milliseconds.\n",
    "        end_time (int): End time in milliseconds.\n",
    "    \"\"\"\n",
    "    # Load the audio file\n",
    "    audio = AudioSegment.from_file(input_file)\n",
    "\n",
    "    # Cut the audio\n",
    "    cut_audio = audio[start_time:end_time]\n",
    "\n",
    "    # Save the cut audio to a new file\n",
    "    cut_audio.export(output_file, format=\"wav\")\n",
    "\n",
    "# Example usage\n",
    "input_file = ruta_acceso+video_title+\".wav\"\n",
    "output_file = ruta_acceso+\"cut_\"+video_title+\".wav\"\n",
    "start_time = 60000  # Start at 10 seconds\n",
    "end_time = 70000  # End at 30 seconds\n",
    "\n",
    "cut_audio(input_file, output_file, start_time, end_time)\n",
    "\n",
    "os.remove(ruta_acceso+video_title+\".wav\")\n"
   ]
  }
 ],
 "metadata": {
  "kernelspec": {
   "display_name": "env",
   "language": "python",
   "name": "python3"
  },
  "language_info": {
   "codemirror_mode": {
    "name": "ipython",
    "version": 3
   },
   "file_extension": ".py",
   "mimetype": "text/x-python",
   "name": "python",
   "nbconvert_exporter": "python",
   "pygments_lexer": "ipython3",
   "version": "3.11.4"
  }
 },
 "nbformat": 4,
 "nbformat_minor": 2
}
