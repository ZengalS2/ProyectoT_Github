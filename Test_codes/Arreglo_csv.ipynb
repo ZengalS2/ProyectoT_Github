{
 "cells": [
  {
   "cell_type": "code",
   "execution_count": 13,
   "metadata": {},
   "outputs": [],
   "source": [
    "import shutil\n",
    "import os\n",
    "import csv\n",
    "import pandas as pd"
   ]
  },
  {
   "cell_type": "code",
   "execution_count": 13,
   "metadata": {},
   "outputs": [],
   "source": [
    "folder = 'K:/Proyecto T/vs_release_16k/audio_16k'\n",
    "\n",
    "for file in os.listdir(folder)[:1500]:\n",
    "    if 'cough' in os.path.basename(folder+'/'+file):\n",
    "        shutil.copy(folder+'/'+file, 'K:/Proyecto T/DatasetEditLeft/temp/coughing')\n",
    "    elif 'laughter' in os.path.basename(folder+'/'+file):\n",
    "        shutil.copy(folder+'/'+file, 'K:/Proyecto T/DatasetEditLeft/temp/laughing')\n",
    "    elif 'sigh' in os.path.basename(folder+'/'+file):\n",
    "        shutil.copy(folder+'/'+file, 'K:/Proyecto T/DatasetEditLeft/temp/sighing')\n",
    "    elif 'sneeze' in os.path.basename(folder+'/'+file):\n",
    "        shutil.copy(folder+'/'+file, 'K:/Proyecto T/DatasetEditLeft/temp/sneezing')\n",
    "    elif 'throatclearing' in os.path.basename(folder+'/'+file):\n",
    "        shutil.copy(folder+'/'+file, 'K:/Proyecto T/DatasetEditLeft/temp/throat-clearing')\n"
   ]
  },
  {
   "cell_type": "code",
   "execution_count": 18,
   "metadata": {},
   "outputs": [],
   "source": [
    "csv_file = open(\"K:/Proyecto T/DatasetEditLeft/Datasettemp.csv\", \"a\")\n",
    "csv_writer = csv.writer(csv_file) \n",
    "\n",
    "folder_temp = 'K:/Proyecto T/DatasetEditLeft/temp'\n",
    "folder_list = os.listdir(folder_temp)\n",
    "i = 10\n",
    "\n",
    "for carpeta in folder_list:\n",
    "    for archivo in os.listdir(folder_temp+'/'+carpeta):\n",
    "        datos = [archivo, \"0\", \"0.0\", \"0.0\", \"0\", \"11\", str(i), carpeta]\n",
    "        csv_writer.writerow(datos)\n",
    "    i = i+1\n",
    "\n",
    "df = pd.read_csv('K:/Proyecto T/DatasetEditLeft/Datasettemp.csv')\n",
    "\n",
    "# Eliminar filas vacías \n",
    "df.dropna(how='all', inplace=True)\n",
    "df.dropna(how='all', inplace=True)\n",
    "\n",
    "# Guardar el archivo CSV actualizado\n",
    "df.to_csv('K:/Proyecto T/DatasetEditLeft/Datasettemp.csv', index=False)\n",
    "\n",
    "csv_file.close()"
   ]
  }
 ],
 "metadata": {
  "kernelspec": {
   "display_name": "env",
   "language": "python",
   "name": "python3"
  },
  "language_info": {
   "codemirror_mode": {
    "name": "ipython",
    "version": 3
   },
   "file_extension": ".py",
   "mimetype": "text/x-python",
   "name": "python",
   "nbconvert_exporter": "python",
   "pygments_lexer": "ipython3",
   "version": "3.11.4"
  }
 },
 "nbformat": 4,
 "nbformat_minor": 2
}
