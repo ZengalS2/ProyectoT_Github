{
 "cells": [
  {
   "cell_type": "code",
   "execution_count": 1,
   "metadata": {},
   "outputs": [],
   "source": [
    "from __future__ import unicode_literals\n",
    "import yt_dlp as youtube_dl\n",
    "import os\n",
    "import moviepy.editor as mp\n",
    "from pydub import AudioSegment"
   ]
  },
  {
   "cell_type": "code",
   "execution_count": 2,
   "metadata": {},
   "outputs": [
    {
     "name": "stdout",
     "output_type": "stream",
     "text": [
      "[youtube] Extracting URL: https://www.youtube.com/watch?v=zQpPfONDPXs\n",
      "[youtube] zQpPfONDPXs: Downloading webpage\n",
      "[youtube] zQpPfONDPXs: Downloading ios player API JSON\n",
      "[youtube] zQpPfONDPXs: Downloading android player API JSON\n",
      "[youtube] zQpPfONDPXs: Downloading m3u8 information\n",
      "[youtube] Extracting URL: https://www.youtube.com/watch?v=zQpPfONDPXs\n",
      "[youtube] zQpPfONDPXs: Downloading webpage\n",
      "[youtube] zQpPfONDPXs: Downloading ios player API JSON\n",
      "[youtube] zQpPfONDPXs: Downloading android player API JSON\n",
      "[youtube] zQpPfONDPXs: Downloading m3u8 information\n",
      "[info] zQpPfONDPXs: Downloading 1 format(s): 251\n",
      "[download] Destination: K:\\Proyecto T\\Audioset\\Balanced Training\\Crying audios\\zQpPfONDPXs.webm\n",
      "[download] 100% of    8.80MiB in 00:00:00 at 29.30MiB/s  \n",
      "El nombre del video es:  Alondra Capitulo 56/4\n",
      "MoviePy - Writing audio in K:\\Proyecto T\\Audioset\\Balanced Training\\Crying audios\\zQpPfONDPXs.wav\n"
     ]
    },
    {
     "name": "stderr",
     "output_type": "stream",
     "text": [
      "                                                                        \r"
     ]
    },
    {
     "name": "stdout",
     "output_type": "stream",
     "text": [
      "MoviePy - Done.\n"
     ]
    }
   ],
   "source": [
    "def cut_audio(input_file, output_file, start_time, end_time):\n",
    "    \"\"\"\n",
    "    Cut parts of an audio file and save it to a new file.\n",
    "\n",
    "    Args:\n",
    "        input_file (str): Path to the input audio file.\n",
    "        output_file (str): Path to save the output audio file.\n",
    "        start_time (int): Start time in milliseconds.\n",
    "        end_time (int): End time in milliseconds.\n",
    "    \"\"\"\n",
    "    # Load the audio file\n",
    "    audio = AudioSegment.from_file(input_file)\n",
    "\n",
    "    # Cut the audio\n",
    "    cut_audio = audio[start_time:end_time]\n",
    "\n",
    "    # Save the cut audio to a new file\n",
    "    cut_audio.export(output_file, format=\"wav\")\n",
    "\n",
    "def Formato(destination, YTID):\n",
    "    ruta_acceso = destination+'\\\\'\n",
    "    try:\n",
    "    \n",
    "        clip = mp.AudioFileClip(ruta_acceso+YTID+\".webm\")\n",
    "        clip.write_audiofile(ruta_acceso+YTID+\".wav\")\n",
    "\n",
    "        os.remove(ruta_acceso+YTID+\".webm\")\n",
    "\n",
    "    except:\n",
    "\n",
    "        clip = mp.AudioFileClip(ruta_acceso+YTID+\".m4a\")\n",
    "        clip.write_audiofile(ruta_acceso+YTID+\".wav\")\n",
    "\n",
    "        os.remove(ruta_acceso+YTID+\".m4a\")\n",
    "\n",
    "    input_file = ruta_acceso+YTID+\".wav\"\n",
    "    output_file = ruta_acceso+\"cut_\"+YTID+\".wav\"\n",
    "\n",
    "    os.remove(ruta_acceso+YTID+\".wav\")\n",
    "\n",
    "def DescargaYT_formato_corte(YTID, start_time, end_time, destination):\n",
    "\n",
    "    video_link = \"https://www.youtube.com/watch?v=\"+YTID\n",
    "    \n",
    "    ydl_opts = {\n",
    "    'format': 'bestaudio/best',\n",
    "    'outtmpl': destination+'\\\\'+YTID+'.%(ext)s',\n",
    "    }\n",
    "    with youtube_dl.YoutubeDL(ydl_opts) as ydl:\n",
    "        info_dict = ydl.extract_info(video_link, download=False)\n",
    "        video_title = info_dict.get('title', None)\n",
    "        ydl.download([video_link])\n",
    "\n",
    "    print(\"El nombre del video es: \", video_title)\n",
    "\n",
    "    ruta_acceso = destination+'\\\\'\n",
    "    YTID = \"\"+YTID+\"\"\n",
    "    try:\n",
    "    \n",
    "        clip = mp.AudioFileClip(ruta_acceso+YTID+\"\"\".webm\"\"\")\n",
    "        clip.write_audiofile(ruta_acceso+YTID+\"\"\".wav\"\"\")\n",
    "\n",
    "        os.remove(ruta_acceso+YTID+\"\"\".webm\"\"\")\n",
    "\n",
    "    except:\n",
    "\n",
    "        clip = mp.AudioFileClip(ruta_acceso+YTID+\"\"\".m4a\"\"\")\n",
    "        clip.write_audiofile(ruta_acceso+YTID+\"\"\".wav\"\"\")\n",
    "\n",
    "        os.remove(ruta_acceso+YTID+\"\"\".m4a\"\"\")\n",
    "\n",
    "    input_file = ruta_acceso+YTID+\"\"\".wav\"\"\"\n",
    "    output_file = ruta_acceso+\"\"\"cut_\"\"\"+YTID+\"\"\".wav\"\"\"\n",
    "\n",
    "    cut_audio(input_file, output_file, start_time, end_time)\n",
    "\n",
    "    os.remove(ruta_acceso+YTID+\"\"\".wav\"\"\")\n",
    "\n",
    "'''\n",
    "destination = \"\"\"K:\\\\Proyecto T\\\\Audioset\\\\Balanced Training\\\\Crying audios\"\"\"\n",
    "YTID = \"zQpPfONDPXs\"\n",
    "start_ms = 360000\n",
    "end_ms = 370000\n",
    "'''\n",
    "\n",
    "#DescargaYT_formato_corte(YTID, start_ms, end_ms, destination)"
   ]
  },
  {
   "cell_type": "markdown",
   "metadata": {},
   "source": [
    "Pruebas particulares de codigo"
   ]
  },
  {
   "cell_type": "markdown",
   "metadata": {},
   "source": [
    "ruta_acceso ='K:\\Proyecto T\\Audioset\\Balanced Training\\Crying audios\\\\'\n",
    "\n",
    "try:\n",
    "    \n",
    "    clip = mp.AudioFileClip(ruta_acceso+\"Baby Gabe Crying\"+\".webm\")\n",
    "    clip.write_audiofile(ruta_acceso+\"Baby Gabe Crying\"+\".wav\")\n",
    "\n",
    "    #os.remove(ruta_acceso+\"Baby Gabe Crying\"+\".webm\")\n",
    "\n",
    "except:\n",
    "\n",
    "    clip = mp.AudioFileClip(ruta_acceso+\"Baby Gabe Crying\"+\".m4a\")\n",
    "    clip.write_audiofile(ruta_acceso+\"Baby Gabe Crying\"+\".wav\")\n",
    "\n",
    "    #os.remove(ruta_acceso+\"Baby Gabe Crying\"+\".m4a\")\n",
    "\n"
   ]
  },
  {
   "cell_type": "markdown",
   "metadata": {},
   "source": [
    "video_link = \"https://www.youtube.com/watch?v=zQpPfONDPXs\"\n",
    "destination = 'K:\\Proyecto T\\Audioset\\Balanced Training\\Crying audios\\\\'\n",
    "\n",
    "\n",
    "ydl_opts = {\n",
    "'format': 'bestaudio/best',\n",
    "'outtmpl': destination+'\\%(title)s.%(ext)s',\n",
    "}\n",
    "with youtube_dl.YoutubeDL(ydl_opts) as ydl:\n",
    "    info_dict = ydl.extract_info(video_link, download=False)\n",
    "    video_title = info_dict.get('title', None)\n",
    "    #ydl.download([video_link])\n",
    "    print(video_title)"
   ]
  }
 ],
 "metadata": {
  "kernelspec": {
   "display_name": "env",
   "language": "python",
   "name": "python3"
  },
  "language_info": {
   "codemirror_mode": {
    "name": "ipython",
    "version": 3
   },
   "file_extension": ".py",
   "mimetype": "text/x-python",
   "name": "python",
   "nbconvert_exporter": "python",
   "pygments_lexer": "ipython3",
   "version": "3.11.4"
  }
 },
 "nbformat": 4,
 "nbformat_minor": 2
}
